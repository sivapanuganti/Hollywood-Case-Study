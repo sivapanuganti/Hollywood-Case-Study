{
 "cells": [
  {
   "cell_type": "markdown",
   "metadata": {},
   "source": [
    "## Hollywood Case Study"
   ]
  },
  {
   "cell_type": "markdown",
   "metadata": {},
   "source": [
    "Import libraries"
   ]
  },
  {
   "cell_type": "code",
   "execution_count": 1,
   "metadata": {},
   "outputs": [],
   "source": [
    "%matplotlib inline\n",
    "import numpy as np\n",
    "import pandas as pd\n",
    "import sklearn as skl\n",
    "import matplotlib.pyplot as plt\n",
    "import seaborn as sns; sns.set()"
   ]
  },
  {
   "cell_type": "markdown",
   "metadata": {},
   "source": [
    "This is the final model and prior to this model, I've build the following four models choosing between Upsamling,(Stratified)K- Fold Cross Validation and  Test- Train Split.\n",
    "- K- Fold Cross Validation WITH upsampling the class labels\n",
    "- Test- Train split WITH upsampling the class labels\n",
    "- K- Fold Cross Validation WITHOUT upsampling the class labels-\n",
    "- Test- Train split WITHOUT upsampling the class labels.\n",
    "\n",
    "###### Final Model- Stratified K fold Cross Validation without upsampling, tested on a new set of data extracted from original training sheet."
   ]
  },
  {
   "cell_type": "markdown",
   "metadata": {},
   "source": [
    "#### Upsampling-\n",
    "- The main idea of upsampling is to prevent the model to be more baised towards the majority class labels.\n",
    "- The 9 class labels present in the training sheet are highly imblanced. So, initially I have built a model by upsampling the minority class labels and balanced them by bringing each class label count to ~250. But, by doing so, the model was overfitting the data.\n",
    "- For example, the count of class label 9 is just 40 and by upsampling, the 40 rows get duplicated by 6 times to make them 240 and as there is a high chance of duplicated rows are to be present in both train and test data. This leads to over fitting and is not good at all compared to the model being more baised towards majority classes.\n",
    "- The only solution to this would be gathering more amount of data.\n",
    "\n",
    "#### Stratified K Fold Cross Validation:\n",
    "- The data set is too small with only 1200 rows with multiple class. Therefore, Stratified K Fold is chosen as it helps to defend the problem the small sized data set and and deals well with the multiple class labels.\n",
    "\n",
    "#### Train Test Split\n",
    "- To validate the results produced by KFold CV, I've used test train split. The accuracy values are almost same in both the ways."
   ]
  },
  {
   "cell_type": "markdown",
   "metadata": {},
   "source": [
    "### Final Model"
   ]
  },
  {
   "cell_type": "markdown",
   "metadata": {},
   "source": [
    "Before building the model, I have split the training sheet into two parts:\n",
    "- Train(999 rows)\n",
    "- Test(197 rows)"
   ]
  },
  {
   "cell_type": "code",
   "execution_count": 2,
   "metadata": {
    "scrolled": true
   },
   "outputs": [
    {
     "data": {
      "text/html": [
       "<div>\n",
       "<style>\n",
       "    .dataframe thead tr:only-child th {\n",
       "        text-align: right;\n",
       "    }\n",
       "\n",
       "    .dataframe thead th {\n",
       "        text-align: left;\n",
       "    }\n",
       "\n",
       "    .dataframe tbody tr th {\n",
       "        vertical-align: top;\n",
       "    }\n",
       "</style>\n",
       "<table border=\"1\" class=\"dataframe\">\n",
       "  <thead>\n",
       "    <tr style=\"text-align: right;\">\n",
       "      <th></th>\n",
       "      <th>id</th>\n",
       "      <th>name</th>\n",
       "      <th>display_name</th>\n",
       "      <th>production_year</th>\n",
       "      <th>movie_sequel</th>\n",
       "      <th>creative_type</th>\n",
       "      <th>source</th>\n",
       "      <th>production_method</th>\n",
       "      <th>genre</th>\n",
       "      <th>language</th>\n",
       "      <th>board_rating_reason</th>\n",
       "      <th>movie_board_rating_display_name</th>\n",
       "      <th>movie_release_pattern_display_name</th>\n",
       "      <th>total</th>\n",
       "      <th>Category</th>\n",
       "    </tr>\n",
       "  </thead>\n",
       "  <tbody>\n",
       "    <tr>\n",
       "      <th>0</th>\n",
       "      <td>70115</td>\n",
       "      <td>10,000 B.C.</td>\n",
       "      <td>10,000 B.C.</td>\n",
       "      <td>2008</td>\n",
       "      <td>0</td>\n",
       "      <td>Historical Fiction</td>\n",
       "      <td>Original Screenplay</td>\n",
       "      <td>Live Action</td>\n",
       "      <td>Adventure</td>\n",
       "      <td>English</td>\n",
       "      <td>for sequences of intense action and violence</td>\n",
       "      <td>PG-13</td>\n",
       "      <td>Wide</td>\n",
       "      <td>269</td>\n",
       "      <td>6</td>\n",
       "    </tr>\n",
       "    <tr>\n",
       "      <th>1</th>\n",
       "      <td>180115</td>\n",
       "      <td>12 Rounds</td>\n",
       "      <td>12 Rounds</td>\n",
       "      <td>2009</td>\n",
       "      <td>0</td>\n",
       "      <td>Contemporary Fiction</td>\n",
       "      <td>Original Screenplay</td>\n",
       "      <td>Live Action</td>\n",
       "      <td>Action</td>\n",
       "      <td>English</td>\n",
       "      <td>for sequences of violence and action</td>\n",
       "      <td>PG-13</td>\n",
       "      <td>Wide</td>\n",
       "      <td>18</td>\n",
       "      <td>2</td>\n",
       "    </tr>\n",
       "    <tr>\n",
       "      <th>2</th>\n",
       "      <td>270115</td>\n",
       "      <td>1408</td>\n",
       "      <td>1408</td>\n",
       "      <td>2007</td>\n",
       "      <td>0</td>\n",
       "      <td>Contemporary Fiction</td>\n",
       "      <td>Based on Fiction Book/Short Story</td>\n",
       "      <td>Live Action</td>\n",
       "      <td>Horror</td>\n",
       "      <td>English</td>\n",
       "      <td>for thematic material including disturbing seq...</td>\n",
       "      <td>PG-13</td>\n",
       "      <td>Wide</td>\n",
       "      <td>131</td>\n",
       "      <td>5</td>\n",
       "    </tr>\n",
       "    <tr>\n",
       "      <th>3</th>\n",
       "      <td>630115</td>\n",
       "      <td>2010 Oscar Shorts</td>\n",
       "      <td>2010 Oscar Shorts</td>\n",
       "      <td>2009</td>\n",
       "      <td>1</td>\n",
       "      <td>Multiple Creative Types</td>\n",
       "      <td>Compilation</td>\n",
       "      <td>Multiple Production Methods</td>\n",
       "      <td>Multiple Genres</td>\n",
       "      <td>English</td>\n",
       "      <td>International - to be excluded</td>\n",
       "      <td>Not Rated</td>\n",
       "      <td>Limited</td>\n",
       "      <td>1</td>\n",
       "      <td>1</td>\n",
       "    </tr>\n",
       "    <tr>\n",
       "      <th>4</th>\n",
       "      <td>640115</td>\n",
       "      <td>2012</td>\n",
       "      <td>2012</td>\n",
       "      <td>2009</td>\n",
       "      <td>0</td>\n",
       "      <td>Science Fiction</td>\n",
       "      <td>Original Screenplay</td>\n",
       "      <td>Live Action</td>\n",
       "      <td>Action</td>\n",
       "      <td>English</td>\n",
       "      <td>for intense disaster sequences and some language</td>\n",
       "      <td>PG-13</td>\n",
       "      <td>Wide</td>\n",
       "      <td>767</td>\n",
       "      <td>9</td>\n",
       "    </tr>\n",
       "  </tbody>\n",
       "</table>\n",
       "</div>"
      ],
      "text/plain": [
       "       id               name       display_name  production_year  \\\n",
       "0   70115        10,000 B.C.        10,000 B.C.             2008   \n",
       "1  180115          12 Rounds          12 Rounds             2009   \n",
       "2  270115               1408               1408             2007   \n",
       "3  630115  2010 Oscar Shorts  2010 Oscar Shorts             2009   \n",
       "4  640115               2012               2012             2009   \n",
       "\n",
       "   movie_sequel            creative_type                             source  \\\n",
       "0             0       Historical Fiction                Original Screenplay   \n",
       "1             0     Contemporary Fiction                Original Screenplay   \n",
       "2             0     Contemporary Fiction  Based on Fiction Book/Short Story   \n",
       "3             1  Multiple Creative Types                        Compilation   \n",
       "4             0          Science Fiction                Original Screenplay   \n",
       "\n",
       "             production_method            genre language  \\\n",
       "0                  Live Action        Adventure  English   \n",
       "1                  Live Action           Action  English   \n",
       "2                  Live Action           Horror  English   \n",
       "3  Multiple Production Methods  Multiple Genres  English   \n",
       "4                  Live Action           Action  English   \n",
       "\n",
       "                                 board_rating_reason  \\\n",
       "0       for sequences of intense action and violence   \n",
       "1               for sequences of violence and action   \n",
       "2  for thematic material including disturbing seq...   \n",
       "3                     International - to be excluded   \n",
       "4   for intense disaster sequences and some language   \n",
       "\n",
       "  movie_board_rating_display_name movie_release_pattern_display_name  total  \\\n",
       "0                           PG-13                               Wide    269   \n",
       "1                           PG-13                               Wide     18   \n",
       "2                           PG-13                               Wide    131   \n",
       "3                       Not Rated                            Limited      1   \n",
       "4                           PG-13                               Wide    767   \n",
       "\n",
       "   Category  \n",
       "0         6  \n",
       "1         2  \n",
       "2         5  \n",
       "3         1  \n",
       "4         9  "
      ]
     },
     "execution_count": 2,
     "metadata": {},
     "output_type": "execute_result"
    }
   ],
   "source": [
    "# Loading the 'Train' file\n",
    "data= pd.read_excel(\"Train.xlsx\")\n",
    "data.head()"
   ]
  },
  {
   "cell_type": "code",
   "execution_count": 3,
   "metadata": {},
   "outputs": [
    {
     "name": "stdout",
     "output_type": "stream",
     "text": [
      "Shape of Train Data: (999, 15)\n"
     ]
    }
   ],
   "source": [
    "print(\"Shape of Train Data:\", data.shape)"
   ]
  },
  {
   "cell_type": "code",
   "execution_count": 4,
   "metadata": {
    "scrolled": false
   },
   "outputs": [
    {
     "data": {
      "text/plain": [
       "id                                    0\n",
       "name                                  0\n",
       "display_name                          0\n",
       "production_year                       0\n",
       "movie_sequel                          0\n",
       "creative_type                         0\n",
       "source                                0\n",
       "production_method                     0\n",
       "genre                                 0\n",
       "language                              0\n",
       "board_rating_reason                   0\n",
       "movie_board_rating_display_name       0\n",
       "movie_release_pattern_display_name    0\n",
       "total                                 0\n",
       "Category                              0\n",
       "dtype: int64"
      ]
     },
     "execution_count": 4,
     "metadata": {},
     "output_type": "execute_result"
    }
   ],
   "source": [
    "#Check for missing values\n",
    "data.isnull().sum()"
   ]
  },
  {
   "cell_type": "markdown",
   "metadata": {},
   "source": [
    "There are no missing values"
   ]
  },
  {
   "cell_type": "markdown",
   "metadata": {},
   "source": [
    "### Exploratory Data Analysis & Feature selection"
   ]
  },
  {
   "cell_type": "code",
   "execution_count": 5,
   "metadata": {},
   "outputs": [
    {
     "data": {
      "text/html": [
       "<div>\n",
       "<style>\n",
       "    .dataframe thead tr:only-child th {\n",
       "        text-align: right;\n",
       "    }\n",
       "\n",
       "    .dataframe thead th {\n",
       "        text-align: left;\n",
       "    }\n",
       "\n",
       "    .dataframe tbody tr th {\n",
       "        vertical-align: top;\n",
       "    }\n",
       "</style>\n",
       "<table border=\"1\" class=\"dataframe\">\n",
       "  <thead>\n",
       "    <tr style=\"text-align: right;\">\n",
       "      <th></th>\n",
       "      <th>id</th>\n",
       "      <th>name</th>\n",
       "      <th>display_name</th>\n",
       "      <th>production_year</th>\n",
       "      <th>movie_sequel</th>\n",
       "      <th>creative_type</th>\n",
       "      <th>source</th>\n",
       "      <th>production_method</th>\n",
       "      <th>genre</th>\n",
       "      <th>language</th>\n",
       "      <th>board_rating_reason</th>\n",
       "      <th>movie_board_rating_display_name</th>\n",
       "      <th>movie_release_pattern_display_name</th>\n",
       "      <th>total</th>\n",
       "      <th>Category</th>\n",
       "    </tr>\n",
       "  </thead>\n",
       "  <tbody>\n",
       "    <tr>\n",
       "      <th>count</th>\n",
       "      <td>9.990000e+02</td>\n",
       "      <td>999</td>\n",
       "      <td>999</td>\n",
       "      <td>999.000000</td>\n",
       "      <td>999.000000</td>\n",
       "      <td>999</td>\n",
       "      <td>999</td>\n",
       "      <td>999</td>\n",
       "      <td>999</td>\n",
       "      <td>999</td>\n",
       "      <td>999</td>\n",
       "      <td>999</td>\n",
       "      <td>999</td>\n",
       "      <td>999.000000</td>\n",
       "      <td>999.000000</td>\n",
       "    </tr>\n",
       "    <tr>\n",
       "      <th>unique</th>\n",
       "      <td>NaN</td>\n",
       "      <td>999</td>\n",
       "      <td>999</td>\n",
       "      <td>NaN</td>\n",
       "      <td>NaN</td>\n",
       "      <td>9</td>\n",
       "      <td>16</td>\n",
       "      <td>6</td>\n",
       "      <td>13</td>\n",
       "      <td>16</td>\n",
       "      <td>840</td>\n",
       "      <td>6</td>\n",
       "      <td>7</td>\n",
       "      <td>NaN</td>\n",
       "      <td>NaN</td>\n",
       "    </tr>\n",
       "    <tr>\n",
       "      <th>top</th>\n",
       "      <td>NaN</td>\n",
       "      <td>No Eres Tu Soy Yo</td>\n",
       "      <td>Love Happens</td>\n",
       "      <td>NaN</td>\n",
       "      <td>NaN</td>\n",
       "      <td>Contemporary Fiction</td>\n",
       "      <td>Original Screenplay</td>\n",
       "      <td>Live Action</td>\n",
       "      <td>Drama</td>\n",
       "      <td>English</td>\n",
       "      <td>International - to be excluded</td>\n",
       "      <td>R</td>\n",
       "      <td>Wide</td>\n",
       "      <td>NaN</td>\n",
       "      <td>NaN</td>\n",
       "    </tr>\n",
       "    <tr>\n",
       "      <th>freq</th>\n",
       "      <td>NaN</td>\n",
       "      <td>1</td>\n",
       "      <td>1</td>\n",
       "      <td>NaN</td>\n",
       "      <td>NaN</td>\n",
       "      <td>528</td>\n",
       "      <td>523</td>\n",
       "      <td>911</td>\n",
       "      <td>268</td>\n",
       "      <td>952</td>\n",
       "      <td>69</td>\n",
       "      <td>375</td>\n",
       "      <td>653</td>\n",
       "      <td>NaN</td>\n",
       "      <td>NaN</td>\n",
       "    </tr>\n",
       "    <tr>\n",
       "      <th>mean</th>\n",
       "      <td>1.005748e+08</td>\n",
       "      <td>NaN</td>\n",
       "      <td>NaN</td>\n",
       "      <td>2009.098098</td>\n",
       "      <td>0.101101</td>\n",
       "      <td>NaN</td>\n",
       "      <td>NaN</td>\n",
       "      <td>NaN</td>\n",
       "      <td>NaN</td>\n",
       "      <td>NaN</td>\n",
       "      <td>NaN</td>\n",
       "      <td>NaN</td>\n",
       "      <td>NaN</td>\n",
       "      <td>108.473473</td>\n",
       "      <td>3.586587</td>\n",
       "    </tr>\n",
       "    <tr>\n",
       "      <th>std</th>\n",
       "      <td>4.477719e+07</td>\n",
       "      <td>NaN</td>\n",
       "      <td>NaN</td>\n",
       "      <td>1.410093</td>\n",
       "      <td>0.301614</td>\n",
       "      <td>NaN</td>\n",
       "      <td>NaN</td>\n",
       "      <td>NaN</td>\n",
       "      <td>NaN</td>\n",
       "      <td>NaN</td>\n",
       "      <td>NaN</td>\n",
       "      <td>NaN</td>\n",
       "      <td>NaN</td>\n",
       "      <td>190.364362</td>\n",
       "      <td>1.994547</td>\n",
       "    </tr>\n",
       "    <tr>\n",
       "      <th>min</th>\n",
       "      <td>7.011500e+04</td>\n",
       "      <td>NaN</td>\n",
       "      <td>NaN</td>\n",
       "      <td>2007.000000</td>\n",
       "      <td>0.000000</td>\n",
       "      <td>NaN</td>\n",
       "      <td>NaN</td>\n",
       "      <td>NaN</td>\n",
       "      <td>NaN</td>\n",
       "      <td>NaN</td>\n",
       "      <td>NaN</td>\n",
       "      <td>NaN</td>\n",
       "      <td>NaN</td>\n",
       "      <td>1.000000</td>\n",
       "      <td>1.000000</td>\n",
       "    </tr>\n",
       "    <tr>\n",
       "      <th>25%</th>\n",
       "      <td>6.866012e+07</td>\n",
       "      <td>NaN</td>\n",
       "      <td>NaN</td>\n",
       "      <td>2008.000000</td>\n",
       "      <td>0.000000</td>\n",
       "      <td>NaN</td>\n",
       "      <td>NaN</td>\n",
       "      <td>NaN</td>\n",
       "      <td>NaN</td>\n",
       "      <td>NaN</td>\n",
       "      <td>NaN</td>\n",
       "      <td>NaN</td>\n",
       "      <td>NaN</td>\n",
       "      <td>12.000000</td>\n",
       "      <td>2.000000</td>\n",
       "    </tr>\n",
       "    <tr>\n",
       "      <th>50%</th>\n",
       "      <td>1.080201e+08</td>\n",
       "      <td>NaN</td>\n",
       "      <td>NaN</td>\n",
       "      <td>2009.000000</td>\n",
       "      <td>0.000000</td>\n",
       "      <td>NaN</td>\n",
       "      <td>NaN</td>\n",
       "      <td>NaN</td>\n",
       "      <td>NaN</td>\n",
       "      <td>NaN</td>\n",
       "      <td>NaN</td>\n",
       "      <td>NaN</td>\n",
       "      <td>NaN</td>\n",
       "      <td>41.000000</td>\n",
       "      <td>3.000000</td>\n",
       "    </tr>\n",
       "    <tr>\n",
       "      <th>75%</th>\n",
       "      <td>1.381901e+08</td>\n",
       "      <td>NaN</td>\n",
       "      <td>NaN</td>\n",
       "      <td>2010.000000</td>\n",
       "      <td>0.000000</td>\n",
       "      <td>NaN</td>\n",
       "      <td>NaN</td>\n",
       "      <td>NaN</td>\n",
       "      <td>NaN</td>\n",
       "      <td>NaN</td>\n",
       "      <td>NaN</td>\n",
       "      <td>NaN</td>\n",
       "      <td>NaN</td>\n",
       "      <td>119.500000</td>\n",
       "      <td>5.000000</td>\n",
       "    </tr>\n",
       "    <tr>\n",
       "      <th>max</th>\n",
       "      <td>1.769701e+08</td>\n",
       "      <td>NaN</td>\n",
       "      <td>NaN</td>\n",
       "      <td>2011.000000</td>\n",
       "      <td>1.000000</td>\n",
       "      <td>NaN</td>\n",
       "      <td>NaN</td>\n",
       "      <td>NaN</td>\n",
       "      <td>NaN</td>\n",
       "      <td>NaN</td>\n",
       "      <td>NaN</td>\n",
       "      <td>NaN</td>\n",
       "      <td>NaN</td>\n",
       "      <td>2784.000000</td>\n",
       "      <td>9.000000</td>\n",
       "    </tr>\n",
       "  </tbody>\n",
       "</table>\n",
       "</div>"
      ],
      "text/plain": [
       "                  id               name  display_name  production_year  \\\n",
       "count   9.990000e+02                999           999       999.000000   \n",
       "unique           NaN                999           999              NaN   \n",
       "top              NaN  No Eres Tu Soy Yo  Love Happens              NaN   \n",
       "freq             NaN                  1             1              NaN   \n",
       "mean    1.005748e+08                NaN           NaN      2009.098098   \n",
       "std     4.477719e+07                NaN           NaN         1.410093   \n",
       "min     7.011500e+04                NaN           NaN      2007.000000   \n",
       "25%     6.866012e+07                NaN           NaN      2008.000000   \n",
       "50%     1.080201e+08                NaN           NaN      2009.000000   \n",
       "75%     1.381901e+08                NaN           NaN      2010.000000   \n",
       "max     1.769701e+08                NaN           NaN      2011.000000   \n",
       "\n",
       "        movie_sequel         creative_type               source  \\\n",
       "count     999.000000                   999                  999   \n",
       "unique           NaN                     9                   16   \n",
       "top              NaN  Contemporary Fiction  Original Screenplay   \n",
       "freq             NaN                   528                  523   \n",
       "mean        0.101101                   NaN                  NaN   \n",
       "std         0.301614                   NaN                  NaN   \n",
       "min         0.000000                   NaN                  NaN   \n",
       "25%         0.000000                   NaN                  NaN   \n",
       "50%         0.000000                   NaN                  NaN   \n",
       "75%         0.000000                   NaN                  NaN   \n",
       "max         1.000000                   NaN                  NaN   \n",
       "\n",
       "       production_method  genre language             board_rating_reason  \\\n",
       "count                999    999      999                             999   \n",
       "unique                 6     13       16                             840   \n",
       "top          Live Action  Drama  English  International - to be excluded   \n",
       "freq                 911    268      952                              69   \n",
       "mean                 NaN    NaN      NaN                             NaN   \n",
       "std                  NaN    NaN      NaN                             NaN   \n",
       "min                  NaN    NaN      NaN                             NaN   \n",
       "25%                  NaN    NaN      NaN                             NaN   \n",
       "50%                  NaN    NaN      NaN                             NaN   \n",
       "75%                  NaN    NaN      NaN                             NaN   \n",
       "max                  NaN    NaN      NaN                             NaN   \n",
       "\n",
       "       movie_board_rating_display_name movie_release_pattern_display_name  \\\n",
       "count                              999                                999   \n",
       "unique                               6                                  7   \n",
       "top                                  R                               Wide   \n",
       "freq                               375                                653   \n",
       "mean                               NaN                                NaN   \n",
       "std                                NaN                                NaN   \n",
       "min                                NaN                                NaN   \n",
       "25%                                NaN                                NaN   \n",
       "50%                                NaN                                NaN   \n",
       "75%                                NaN                                NaN   \n",
       "max                                NaN                                NaN   \n",
       "\n",
       "              total    Category  \n",
       "count    999.000000  999.000000  \n",
       "unique          NaN         NaN  \n",
       "top             NaN         NaN  \n",
       "freq            NaN         NaN  \n",
       "mean     108.473473    3.586587  \n",
       "std      190.364362    1.994547  \n",
       "min        1.000000    1.000000  \n",
       "25%       12.000000    2.000000  \n",
       "50%       41.000000    3.000000  \n",
       "75%      119.500000    5.000000  \n",
       "max     2784.000000    9.000000  "
      ]
     },
     "execution_count": 5,
     "metadata": {},
     "output_type": "execute_result"
    }
   ],
   "source": [
    "data.describe(include=\"all\")"
   ]
  },
  {
   "cell_type": "markdown",
   "metadata": {},
   "source": [
    "- The data contains 15 features out of which 1 is a class label.\n",
    "- id does not help in building the predictive model.\n",
    "- Both the features \"name\" and \"display_name\" have 999 unique data points which are in the form of string/object data type. Converting all of them into numeric(creating dummy variables) would cost the model a very high dimensionality, which ultimately doesn't help the model and leads to bad one.\n",
    "- The feature \"board_rating_reason\" is also irrelevent while we have \"movie_board_rating_display_name\" derived from the former.\n",
    "- All the other feature seem to be pretty useful. "
   ]
  },
  {
   "cell_type": "code",
   "execution_count": 5,
   "metadata": {},
   "outputs": [],
   "source": [
    "#Dropping the irrelevant/useless features\n",
    "to_drop= [\"id\",\"name\",\"display_name\",\"board_rating_reason\"]\n",
    "data1= data.drop(to_drop, axis=1)"
   ]
  },
  {
   "cell_type": "markdown",
   "metadata": {},
   "source": [
    "Next step: Investigating the data types and converting them into the appropriate ones."
   ]
  },
  {
   "cell_type": "code",
   "execution_count": 7,
   "metadata": {},
   "outputs": [
    {
     "data": {
      "text/plain": [
       "production_year                        int64\n",
       "movie_sequel                           int64\n",
       "creative_type                         object\n",
       "source                                object\n",
       "production_method                     object\n",
       "genre                                 object\n",
       "language                              object\n",
       "movie_board_rating_display_name       object\n",
       "movie_release_pattern_display_name    object\n",
       "total                                  int64\n",
       "Category                               int64\n",
       "dtype: object"
      ]
     },
     "execution_count": 7,
     "metadata": {},
     "output_type": "execute_result"
    }
   ],
   "source": [
    "data1.dtypes"
   ]
  },
  {
   "cell_type": "markdown",
   "metadata": {},
   "source": [
    "#### Features that need to be converted into Categorical\n",
    "- id- int64\n",
    "- name- object\n",
    "- display_name- object\n",
    "- production_year- int64\n",
    "- movie_sequel- int64- Categorical\n",
    "- creative_type- object- Categorical\n",
    "- source- object- Categorical\n",
    "- production_method- object- Categorical\n",
    "- genre- object- Categorical\n",
    "- language- object- Categorical\n",
    "- board_rating_reason- object\n",
    "- movie_board_rating_display_name- object- Categorical(Nominal/ Ordinal)\n",
    "- movie_release_pattern_display_name- object- Categorical\n",
    "- total- int64\n",
    "- Category- int64- Categorical"
   ]
  },
  {
   "cell_type": "code",
   "execution_count": 6,
   "metadata": {},
   "outputs": [],
   "source": [
    "# col=[\"movie_sequel\",\"creative_type\",\"source\",\"production_method\",\"genre\",\n",
    "#                  \"language\",\"movie_board_rating_display_name\",\"movie_release_pattern_display_name\"]\n",
    "# for i in col:\n",
    "#     data1[i]= data1[i].astype(\"category\", categories = data1[column].unique())\n",
    "\n",
    "for column in data1.select_dtypes(include=[np.object]).columns:\n",
    "    data1[column] = data1[column].astype('category', categories = data1[column].unique())"
   ]
  },
  {
   "cell_type": "code",
   "execution_count": 7,
   "metadata": {},
   "outputs": [
    {
     "data": {
      "text/plain": [
       "production_year                          int64\n",
       "movie_sequel                             int64\n",
       "creative_type                         category\n",
       "source                                category\n",
       "production_method                     category\n",
       "genre                                 category\n",
       "language                              category\n",
       "movie_board_rating_display_name       category\n",
       "movie_release_pattern_display_name    category\n",
       "total                                    int64\n",
       "Category                                 int64\n",
       "dtype: object"
      ]
     },
     "execution_count": 7,
     "metadata": {},
     "output_type": "execute_result"
    }
   ],
   "source": [
    "data1.dtypes"
   ]
  },
  {
   "cell_type": "markdown",
   "metadata": {},
   "source": [
    "### One hot encoding: Converting Categorical variables to Numeric"
   ]
  },
  {
   "cell_type": "code",
   "execution_count": 8,
   "metadata": {
    "scrolled": true
   },
   "outputs": [
    {
     "data": {
      "text/html": [
       "<div>\n",
       "<style>\n",
       "    .dataframe thead tr:only-child th {\n",
       "        text-align: right;\n",
       "    }\n",
       "\n",
       "    .dataframe thead th {\n",
       "        text-align: left;\n",
       "    }\n",
       "\n",
       "    .dataframe tbody tr th {\n",
       "        vertical-align: top;\n",
       "    }\n",
       "</style>\n",
       "<table border=\"1\" class=\"dataframe\">\n",
       "  <thead>\n",
       "    <tr style=\"text-align: right;\">\n",
       "      <th></th>\n",
       "      <th>production_year</th>\n",
       "      <th>total</th>\n",
       "      <th>Category</th>\n",
       "      <th>movie_sequel_0</th>\n",
       "      <th>movie_sequel_1</th>\n",
       "      <th>creative_type_Historical Fiction</th>\n",
       "      <th>creative_type_Contemporary Fiction</th>\n",
       "      <th>creative_type_Multiple Creative Types</th>\n",
       "      <th>creative_type_Science Fiction</th>\n",
       "      <th>creative_type_Fantasy</th>\n",
       "      <th>...</th>\n",
       "      <th>movie_board_rating_display_name_PG</th>\n",
       "      <th>movie_board_rating_display_name_G</th>\n",
       "      <th>movie_board_rating_display_name_NC-17</th>\n",
       "      <th>movie_release_pattern_display_name_Wide</th>\n",
       "      <th>movie_release_pattern_display_name_Limited</th>\n",
       "      <th>movie_release_pattern_display_name_Expands Wide</th>\n",
       "      <th>movie_release_pattern_display_name_Oscar Qualifying Run</th>\n",
       "      <th>movie_release_pattern_display_name_Exclusive</th>\n",
       "      <th>movie_release_pattern_display_name_IMAX</th>\n",
       "      <th>movie_release_pattern_display_name_Special Engagement</th>\n",
       "    </tr>\n",
       "  </thead>\n",
       "  <tbody>\n",
       "    <tr>\n",
       "      <th>0</th>\n",
       "      <td>2008</td>\n",
       "      <td>269</td>\n",
       "      <td>6</td>\n",
       "      <td>1</td>\n",
       "      <td>0</td>\n",
       "      <td>1</td>\n",
       "      <td>0</td>\n",
       "      <td>0</td>\n",
       "      <td>0</td>\n",
       "      <td>0</td>\n",
       "      <td>...</td>\n",
       "      <td>0</td>\n",
       "      <td>0</td>\n",
       "      <td>0</td>\n",
       "      <td>1</td>\n",
       "      <td>0</td>\n",
       "      <td>0</td>\n",
       "      <td>0</td>\n",
       "      <td>0</td>\n",
       "      <td>0</td>\n",
       "      <td>0</td>\n",
       "    </tr>\n",
       "    <tr>\n",
       "      <th>1</th>\n",
       "      <td>2009</td>\n",
       "      <td>18</td>\n",
       "      <td>2</td>\n",
       "      <td>1</td>\n",
       "      <td>0</td>\n",
       "      <td>0</td>\n",
       "      <td>1</td>\n",
       "      <td>0</td>\n",
       "      <td>0</td>\n",
       "      <td>0</td>\n",
       "      <td>...</td>\n",
       "      <td>0</td>\n",
       "      <td>0</td>\n",
       "      <td>0</td>\n",
       "      <td>1</td>\n",
       "      <td>0</td>\n",
       "      <td>0</td>\n",
       "      <td>0</td>\n",
       "      <td>0</td>\n",
       "      <td>0</td>\n",
       "      <td>0</td>\n",
       "    </tr>\n",
       "    <tr>\n",
       "      <th>2</th>\n",
       "      <td>2007</td>\n",
       "      <td>131</td>\n",
       "      <td>5</td>\n",
       "      <td>1</td>\n",
       "      <td>0</td>\n",
       "      <td>0</td>\n",
       "      <td>1</td>\n",
       "      <td>0</td>\n",
       "      <td>0</td>\n",
       "      <td>0</td>\n",
       "      <td>...</td>\n",
       "      <td>0</td>\n",
       "      <td>0</td>\n",
       "      <td>0</td>\n",
       "      <td>1</td>\n",
       "      <td>0</td>\n",
       "      <td>0</td>\n",
       "      <td>0</td>\n",
       "      <td>0</td>\n",
       "      <td>0</td>\n",
       "      <td>0</td>\n",
       "    </tr>\n",
       "    <tr>\n",
       "      <th>3</th>\n",
       "      <td>2009</td>\n",
       "      <td>1</td>\n",
       "      <td>1</td>\n",
       "      <td>0</td>\n",
       "      <td>1</td>\n",
       "      <td>0</td>\n",
       "      <td>0</td>\n",
       "      <td>1</td>\n",
       "      <td>0</td>\n",
       "      <td>0</td>\n",
       "      <td>...</td>\n",
       "      <td>0</td>\n",
       "      <td>0</td>\n",
       "      <td>0</td>\n",
       "      <td>0</td>\n",
       "      <td>1</td>\n",
       "      <td>0</td>\n",
       "      <td>0</td>\n",
       "      <td>0</td>\n",
       "      <td>0</td>\n",
       "      <td>0</td>\n",
       "    </tr>\n",
       "    <tr>\n",
       "      <th>4</th>\n",
       "      <td>2009</td>\n",
       "      <td>767</td>\n",
       "      <td>9</td>\n",
       "      <td>1</td>\n",
       "      <td>0</td>\n",
       "      <td>0</td>\n",
       "      <td>0</td>\n",
       "      <td>0</td>\n",
       "      <td>1</td>\n",
       "      <td>0</td>\n",
       "      <td>...</td>\n",
       "      <td>0</td>\n",
       "      <td>0</td>\n",
       "      <td>0</td>\n",
       "      <td>1</td>\n",
       "      <td>0</td>\n",
       "      <td>0</td>\n",
       "      <td>0</td>\n",
       "      <td>0</td>\n",
       "      <td>0</td>\n",
       "      <td>0</td>\n",
       "    </tr>\n",
       "  </tbody>\n",
       "</table>\n",
       "<p>5 rows × 78 columns</p>\n",
       "</div>"
      ],
      "text/plain": [
       "   production_year  total  Category  movie_sequel_0  movie_sequel_1  \\\n",
       "0             2008    269         6               1               0   \n",
       "1             2009     18         2               1               0   \n",
       "2             2007    131         5               1               0   \n",
       "3             2009      1         1               0               1   \n",
       "4             2009    767         9               1               0   \n",
       "\n",
       "   creative_type_Historical Fiction  creative_type_Contemporary Fiction  \\\n",
       "0                                 1                                   0   \n",
       "1                                 0                                   1   \n",
       "2                                 0                                   1   \n",
       "3                                 0                                   0   \n",
       "4                                 0                                   0   \n",
       "\n",
       "   creative_type_Multiple Creative Types  creative_type_Science Fiction  \\\n",
       "0                                      0                              0   \n",
       "1                                      0                              0   \n",
       "2                                      0                              0   \n",
       "3                                      1                              0   \n",
       "4                                      0                              1   \n",
       "\n",
       "   creative_type_Fantasy  \\\n",
       "0                      0   \n",
       "1                      0   \n",
       "2                      0   \n",
       "3                      0   \n",
       "4                      0   \n",
       "\n",
       "                           ...                            \\\n",
       "0                          ...                             \n",
       "1                          ...                             \n",
       "2                          ...                             \n",
       "3                          ...                             \n",
       "4                          ...                             \n",
       "\n",
       "   movie_board_rating_display_name_PG  movie_board_rating_display_name_G  \\\n",
       "0                                   0                                  0   \n",
       "1                                   0                                  0   \n",
       "2                                   0                                  0   \n",
       "3                                   0                                  0   \n",
       "4                                   0                                  0   \n",
       "\n",
       "   movie_board_rating_display_name_NC-17  \\\n",
       "0                                      0   \n",
       "1                                      0   \n",
       "2                                      0   \n",
       "3                                      0   \n",
       "4                                      0   \n",
       "\n",
       "   movie_release_pattern_display_name_Wide  \\\n",
       "0                                        1   \n",
       "1                                        1   \n",
       "2                                        1   \n",
       "3                                        0   \n",
       "4                                        1   \n",
       "\n",
       "   movie_release_pattern_display_name_Limited  \\\n",
       "0                                           0   \n",
       "1                                           0   \n",
       "2                                           0   \n",
       "3                                           1   \n",
       "4                                           0   \n",
       "\n",
       "   movie_release_pattern_display_name_Expands Wide  \\\n",
       "0                                                0   \n",
       "1                                                0   \n",
       "2                                                0   \n",
       "3                                                0   \n",
       "4                                                0   \n",
       "\n",
       "   movie_release_pattern_display_name_Oscar Qualifying Run  \\\n",
       "0                                                  0         \n",
       "1                                                  0         \n",
       "2                                                  0         \n",
       "3                                                  0         \n",
       "4                                                  0         \n",
       "\n",
       "   movie_release_pattern_display_name_Exclusive  \\\n",
       "0                                             0   \n",
       "1                                             0   \n",
       "2                                             0   \n",
       "3                                             0   \n",
       "4                                             0   \n",
       "\n",
       "   movie_release_pattern_display_name_IMAX  \\\n",
       "0                                        0   \n",
       "1                                        0   \n",
       "2                                        0   \n",
       "3                                        0   \n",
       "4                                        0   \n",
       "\n",
       "   movie_release_pattern_display_name_Special Engagement  \n",
       "0                                                  0      \n",
       "1                                                  0      \n",
       "2                                                  0      \n",
       "3                                                  0      \n",
       "4                                                  0      \n",
       "\n",
       "[5 rows x 78 columns]"
      ]
     },
     "execution_count": 8,
     "metadata": {},
     "output_type": "execute_result"
    }
   ],
   "source": [
    "nominal_columns=[\"movie_sequel\",\"creative_type\",\"source\",\"production_method\",\"genre\",\n",
    "                 \"language\",\"movie_board_rating_display_name\",\"movie_release_pattern_display_name\"]\n",
    "df= pd.get_dummies(data=data1, columns=nominal_columns)\n",
    "df.head() #data frame containing dummy variables for nominal categorical features"
   ]
  },
  {
   "cell_type": "markdown",
   "metadata": {},
   "source": [
    "#### Analysis of target column \"Category\""
   ]
  },
  {
   "cell_type": "markdown",
   "metadata": {},
   "source": [
    "Let's count how many number of data points are present in each type of class. So that any imbalance in the target column can be found."
   ]
  },
  {
   "cell_type": "code",
   "execution_count": 10,
   "metadata": {
    "scrolled": true
   },
   "outputs": [
    {
     "data": {
      "text/plain": [
       "3    207\n",
       "2    196\n",
       "4    171\n",
       "1    146\n",
       "5    107\n",
       "6     69\n",
       "7     51\n",
       "8     34\n",
       "9     18\n",
       "Name: Category, dtype: int64"
      ]
     },
     "execution_count": 10,
     "metadata": {},
     "output_type": "execute_result"
    }
   ],
   "source": [
    "df[\"Category\"].value_counts(dropna= False )"
   ]
  },
  {
   "cell_type": "markdown",
   "metadata": {},
   "source": [
    "The class labels are highly imbalanced but as mentioned earlier, upsampling is leading to overfitting. Hence, i've decided to keep the class labels as they are."
   ]
  },
  {
   "cell_type": "markdown",
   "metadata": {},
   "source": [
    "### Separating Features and Target in Training Data"
   ]
  },
  {
   "cell_type": "code",
   "execution_count": 9,
   "metadata": {},
   "outputs": [],
   "source": [
    "features= df.drop(\"Category\", axis=1)\n",
    "target=df[\"Category\"]"
   ]
  },
  {
   "cell_type": "code",
   "execution_count": 10,
   "metadata": {},
   "outputs": [],
   "source": [
    "X=features\n",
    "y=target"
   ]
  },
  {
   "cell_type": "code",
   "execution_count": 13,
   "metadata": {
    "scrolled": true
   },
   "outputs": [
    {
     "data": {
      "text/html": [
       "<div>\n",
       "<style>\n",
       "    .dataframe thead tr:only-child th {\n",
       "        text-align: right;\n",
       "    }\n",
       "\n",
       "    .dataframe thead th {\n",
       "        text-align: left;\n",
       "    }\n",
       "\n",
       "    .dataframe tbody tr th {\n",
       "        vertical-align: top;\n",
       "    }\n",
       "</style>\n",
       "<table border=\"1\" class=\"dataframe\">\n",
       "  <thead>\n",
       "    <tr style=\"text-align: right;\">\n",
       "      <th></th>\n",
       "      <th>production_year</th>\n",
       "      <th>total</th>\n",
       "      <th>movie_sequel_0</th>\n",
       "      <th>movie_sequel_1</th>\n",
       "      <th>creative_type_Historical Fiction</th>\n",
       "      <th>creative_type_Contemporary Fiction</th>\n",
       "      <th>creative_type_Multiple Creative Types</th>\n",
       "      <th>creative_type_Science Fiction</th>\n",
       "      <th>creative_type_Fantasy</th>\n",
       "      <th>creative_type_Kids Fiction</th>\n",
       "      <th>...</th>\n",
       "      <th>movie_board_rating_display_name_PG</th>\n",
       "      <th>movie_board_rating_display_name_G</th>\n",
       "      <th>movie_board_rating_display_name_NC-17</th>\n",
       "      <th>movie_release_pattern_display_name_Wide</th>\n",
       "      <th>movie_release_pattern_display_name_Limited</th>\n",
       "      <th>movie_release_pattern_display_name_Expands Wide</th>\n",
       "      <th>movie_release_pattern_display_name_Oscar Qualifying Run</th>\n",
       "      <th>movie_release_pattern_display_name_Exclusive</th>\n",
       "      <th>movie_release_pattern_display_name_IMAX</th>\n",
       "      <th>movie_release_pattern_display_name_Special Engagement</th>\n",
       "    </tr>\n",
       "  </thead>\n",
       "  <tbody>\n",
       "    <tr>\n",
       "      <th>0</th>\n",
       "      <td>2008</td>\n",
       "      <td>269</td>\n",
       "      <td>1</td>\n",
       "      <td>0</td>\n",
       "      <td>1</td>\n",
       "      <td>0</td>\n",
       "      <td>0</td>\n",
       "      <td>0</td>\n",
       "      <td>0</td>\n",
       "      <td>0</td>\n",
       "      <td>...</td>\n",
       "      <td>0</td>\n",
       "      <td>0</td>\n",
       "      <td>0</td>\n",
       "      <td>1</td>\n",
       "      <td>0</td>\n",
       "      <td>0</td>\n",
       "      <td>0</td>\n",
       "      <td>0</td>\n",
       "      <td>0</td>\n",
       "      <td>0</td>\n",
       "    </tr>\n",
       "    <tr>\n",
       "      <th>1</th>\n",
       "      <td>2009</td>\n",
       "      <td>18</td>\n",
       "      <td>1</td>\n",
       "      <td>0</td>\n",
       "      <td>0</td>\n",
       "      <td>1</td>\n",
       "      <td>0</td>\n",
       "      <td>0</td>\n",
       "      <td>0</td>\n",
       "      <td>0</td>\n",
       "      <td>...</td>\n",
       "      <td>0</td>\n",
       "      <td>0</td>\n",
       "      <td>0</td>\n",
       "      <td>1</td>\n",
       "      <td>0</td>\n",
       "      <td>0</td>\n",
       "      <td>0</td>\n",
       "      <td>0</td>\n",
       "      <td>0</td>\n",
       "      <td>0</td>\n",
       "    </tr>\n",
       "    <tr>\n",
       "      <th>2</th>\n",
       "      <td>2007</td>\n",
       "      <td>131</td>\n",
       "      <td>1</td>\n",
       "      <td>0</td>\n",
       "      <td>0</td>\n",
       "      <td>1</td>\n",
       "      <td>0</td>\n",
       "      <td>0</td>\n",
       "      <td>0</td>\n",
       "      <td>0</td>\n",
       "      <td>...</td>\n",
       "      <td>0</td>\n",
       "      <td>0</td>\n",
       "      <td>0</td>\n",
       "      <td>1</td>\n",
       "      <td>0</td>\n",
       "      <td>0</td>\n",
       "      <td>0</td>\n",
       "      <td>0</td>\n",
       "      <td>0</td>\n",
       "      <td>0</td>\n",
       "    </tr>\n",
       "    <tr>\n",
       "      <th>3</th>\n",
       "      <td>2009</td>\n",
       "      <td>1</td>\n",
       "      <td>0</td>\n",
       "      <td>1</td>\n",
       "      <td>0</td>\n",
       "      <td>0</td>\n",
       "      <td>1</td>\n",
       "      <td>0</td>\n",
       "      <td>0</td>\n",
       "      <td>0</td>\n",
       "      <td>...</td>\n",
       "      <td>0</td>\n",
       "      <td>0</td>\n",
       "      <td>0</td>\n",
       "      <td>0</td>\n",
       "      <td>1</td>\n",
       "      <td>0</td>\n",
       "      <td>0</td>\n",
       "      <td>0</td>\n",
       "      <td>0</td>\n",
       "      <td>0</td>\n",
       "    </tr>\n",
       "    <tr>\n",
       "      <th>4</th>\n",
       "      <td>2009</td>\n",
       "      <td>767</td>\n",
       "      <td>1</td>\n",
       "      <td>0</td>\n",
       "      <td>0</td>\n",
       "      <td>0</td>\n",
       "      <td>0</td>\n",
       "      <td>1</td>\n",
       "      <td>0</td>\n",
       "      <td>0</td>\n",
       "      <td>...</td>\n",
       "      <td>0</td>\n",
       "      <td>0</td>\n",
       "      <td>0</td>\n",
       "      <td>1</td>\n",
       "      <td>0</td>\n",
       "      <td>0</td>\n",
       "      <td>0</td>\n",
       "      <td>0</td>\n",
       "      <td>0</td>\n",
       "      <td>0</td>\n",
       "    </tr>\n",
       "  </tbody>\n",
       "</table>\n",
       "<p>5 rows × 77 columns</p>\n",
       "</div>"
      ],
      "text/plain": [
       "   production_year  total  movie_sequel_0  movie_sequel_1  \\\n",
       "0             2008    269               1               0   \n",
       "1             2009     18               1               0   \n",
       "2             2007    131               1               0   \n",
       "3             2009      1               0               1   \n",
       "4             2009    767               1               0   \n",
       "\n",
       "   creative_type_Historical Fiction  creative_type_Contemporary Fiction  \\\n",
       "0                                 1                                   0   \n",
       "1                                 0                                   1   \n",
       "2                                 0                                   1   \n",
       "3                                 0                                   0   \n",
       "4                                 0                                   0   \n",
       "\n",
       "   creative_type_Multiple Creative Types  creative_type_Science Fiction  \\\n",
       "0                                      0                              0   \n",
       "1                                      0                              0   \n",
       "2                                      0                              0   \n",
       "3                                      1                              0   \n",
       "4                                      0                              1   \n",
       "\n",
       "   creative_type_Fantasy  creative_type_Kids Fiction  \\\n",
       "0                      0                           0   \n",
       "1                      0                           0   \n",
       "2                      0                           0   \n",
       "3                      0                           0   \n",
       "4                      0                           0   \n",
       "\n",
       "                           ...                            \\\n",
       "0                          ...                             \n",
       "1                          ...                             \n",
       "2                          ...                             \n",
       "3                          ...                             \n",
       "4                          ...                             \n",
       "\n",
       "   movie_board_rating_display_name_PG  movie_board_rating_display_name_G  \\\n",
       "0                                   0                                  0   \n",
       "1                                   0                                  0   \n",
       "2                                   0                                  0   \n",
       "3                                   0                                  0   \n",
       "4                                   0                                  0   \n",
       "\n",
       "   movie_board_rating_display_name_NC-17  \\\n",
       "0                                      0   \n",
       "1                                      0   \n",
       "2                                      0   \n",
       "3                                      0   \n",
       "4                                      0   \n",
       "\n",
       "   movie_release_pattern_display_name_Wide  \\\n",
       "0                                        1   \n",
       "1                                        1   \n",
       "2                                        1   \n",
       "3                                        0   \n",
       "4                                        1   \n",
       "\n",
       "   movie_release_pattern_display_name_Limited  \\\n",
       "0                                           0   \n",
       "1                                           0   \n",
       "2                                           0   \n",
       "3                                           1   \n",
       "4                                           0   \n",
       "\n",
       "   movie_release_pattern_display_name_Expands Wide  \\\n",
       "0                                                0   \n",
       "1                                                0   \n",
       "2                                                0   \n",
       "3                                                0   \n",
       "4                                                0   \n",
       "\n",
       "   movie_release_pattern_display_name_Oscar Qualifying Run  \\\n",
       "0                                                  0         \n",
       "1                                                  0         \n",
       "2                                                  0         \n",
       "3                                                  0         \n",
       "4                                                  0         \n",
       "\n",
       "   movie_release_pattern_display_name_Exclusive  \\\n",
       "0                                             0   \n",
       "1                                             0   \n",
       "2                                             0   \n",
       "3                                             0   \n",
       "4                                             0   \n",
       "\n",
       "   movie_release_pattern_display_name_IMAX  \\\n",
       "0                                        0   \n",
       "1                                        0   \n",
       "2                                        0   \n",
       "3                                        0   \n",
       "4                                        0   \n",
       "\n",
       "   movie_release_pattern_display_name_Special Engagement  \n",
       "0                                                  0      \n",
       "1                                                  0      \n",
       "2                                                  0      \n",
       "3                                                  0      \n",
       "4                                                  0      \n",
       "\n",
       "[5 rows x 77 columns]"
      ]
     },
     "execution_count": 13,
     "metadata": {},
     "output_type": "execute_result"
    }
   ],
   "source": [
    "X.head()"
   ]
  },
  {
   "cell_type": "markdown",
   "metadata": {},
   "source": [
    "Preparing X and y to fit the scikit learn"
   ]
  },
  {
   "cell_type": "code",
   "execution_count": 14,
   "metadata": {},
   "outputs": [],
   "source": [
    "from sklearn.preprocessing import StandardScaler\n",
    "scaler = StandardScaler()\n",
    "X=features.as_matrix().astype(np.float)\n",
    "X= scaler.fit_transform(X)\n",
    "y=target.values"
   ]
  },
  {
   "cell_type": "code",
   "execution_count": 11,
   "metadata": {
    "scrolled": true
   },
   "outputs": [
    {
     "name": "stdout",
     "output_type": "stream",
     "text": [
      "Shape of features X: (999, 77)\n",
      "Shape of target label y: (999,)\n",
      "Unique values present in target label: [1 2 3 4 5 6 7 8 9]\n"
     ]
    }
   ],
   "source": [
    "print(\"Shape of features X:\",X.shape)\n",
    "print(\"Shape of target label y:\",y.shape)\n",
    "print(\"Unique values present in target label:\",np.unique(y))"
   ]
  },
  {
   "cell_type": "code",
   "execution_count": null,
   "metadata": {},
   "outputs": [],
   "source": [
    "# c,r= y_train.shape\n",
    "# y_train= y_train.reshape(c,)"
   ]
  },
  {
   "cell_type": "markdown",
   "metadata": {},
   "source": [
    "## Training the Model"
   ]
  },
  {
   "cell_type": "markdown",
   "metadata": {},
   "source": [
    "Importing the Classifiers and sklearn CV metrics"
   ]
  },
  {
   "cell_type": "code",
   "execution_count": 12,
   "metadata": {},
   "outputs": [],
   "source": [
    "from sklearn.svm import LinearSVC\n",
    "from sklearn.naive_bayes import GaussianNB as NB\n",
    "from sklearn.ensemble import RandomForestClassifier as RF\n",
    "from sklearn.neighbors import KNeighborsClassifier as KNN\n",
    "from sklearn.ensemble import GradientBoostingClassifier as GB\n",
    "from sklearn.metrics import average_precision_score"
   ]
  },
  {
   "cell_type": "markdown",
   "metadata": {},
   "source": [
    "### Cross Validation"
   ]
  },
  {
   "cell_type": "code",
   "execution_count": 48,
   "metadata": {},
   "outputs": [],
   "source": [
    "from sklearn.model_selection import cross_val_score"
   ]
  },
  {
   "cell_type": "code",
   "execution_count": 51,
   "metadata": {},
   "outputs": [
    {
     "name": "stdout",
     "output_type": "stream",
     "text": [
      "Linear SVC--Accuracy: 0.35 (+/- 0.20)\n",
      "naive_bayes--Accuracy: 0.27 (+/- 0.05)\n",
      "RandomForestClassifier--Accuracy: 0.73 (+/- 0.06)\n",
      "KNeighborsClassifier--Accuracy: 0.97 (+/- 0.02)\n",
      "GradientBoostingClassifier--Accuracy: 0.98 (+/- 0.01)\n"
     ]
    }
   ],
   "source": [
    "model_name=['Linear SVC','naive_bayes','RandomForestClassifier','KNeighborsClassifier','GradientBoostingClassifier']\n",
    "models_list= [LinearSVC(),NB(),RF(),KNN(),GB()]\n",
    "for i, j in zip(model_name, models_list):\n",
    "    scores = cross_val_score(j, X, y, cv=5)\n",
    "    print(i+\"--\"+ \"Accuracy: %0.2f (+/- %0.2f)\" % (scores.mean(), scores.std() * 2))"
   ]
  },
  {
   "cell_type": "markdown",
   "metadata": {},
   "source": [
    "### K Fold Cross Validation"
   ]
  },
  {
   "cell_type": "code",
   "execution_count": 52,
   "metadata": {},
   "outputs": [],
   "source": [
    "from sklearn.model_selection import KFold"
   ]
  },
  {
   "cell_type": "code",
   "execution_count": 53,
   "metadata": {},
   "outputs": [
    {
     "name": "stdout",
     "output_type": "stream",
     "text": [
      "Linear SVC--Accuracy: 0.23 (+/- 0.14)\n",
      "naive_bayes--Accuracy: 0.25 (+/- 0.10)\n",
      "RandomForestClassifier--Accuracy: 0.74 (+/- 0.11)\n",
      "KNeighborsClassifier--Accuracy: 0.97 (+/- 0.02)\n",
      "GradientBoostingClassifier--Accuracy: 0.98 (+/- 0.01)\n"
     ]
    }
   ],
   "source": [
    "kf=KFold(n_splits=5)\n",
    "model_name=['Linear SVC','naive_bayes','RandomForestClassifier','KNeighborsClassifier','GradientBoostingClassifier']\n",
    "models_list= [LinearSVC(),NB(),RF(),KNN(),GB()]\n",
    "for i, j in zip(model_name, models_list):\n",
    "    scores = cross_val_score(j, X, y, cv=kf)\n",
    "    print(i+\"--\"+ \"Accuracy: %0.2f (+/- %0.2f)\" % (scores.mean(), scores.std() * 2))"
   ]
  },
  {
   "cell_type": "markdown",
   "metadata": {},
   "source": [
    "### Stratified K Fold Cross Validation"
   ]
  },
  {
   "cell_type": "markdown",
   "metadata": {},
   "source": [
    "StratifiedKFold is a variation of k-fold which returns stratified folds: each set contains approximately the same percentage of samples of each target class as the complete set."
   ]
  },
  {
   "cell_type": "code",
   "execution_count": 45,
   "metadata": {},
   "outputs": [],
   "source": [
    "from sklearn.model_selection import StratifiedKFold"
   ]
  },
  {
   "cell_type": "code",
   "execution_count": 57,
   "metadata": {
    "scrolled": true
   },
   "outputs": [
    {
     "name": "stdout",
     "output_type": "stream",
     "text": [
      "[0.32682927 0.26368159 0.33668342 0.58585859 0.21428571]\n",
      "Linear SVC--Accuracy: 0.35 (+/- 0.26)\n",
      "\n",
      "[0.25853659 0.26368159 0.22613065 0.3030303  0.28061224]\n",
      "naive_bayes--Accuracy: 0.27 (+/- 0.05)\n",
      "\n",
      "[0.71219512 0.70646766 0.71356784 0.81313131 0.80102041]\n",
      "RandomForestClassifier--Accuracy: 0.75 (+/- 0.09)\n",
      "\n",
      "[0.98536585 0.97512438 0.97487437 0.97979798 0.95918367]\n",
      "KNeighborsClassifier--Accuracy: 0.97 (+/- 0.02)\n",
      "\n",
      "[0.97560976 0.97014925 0.97487437 0.98484848 0.9744898 ]\n",
      "GradientBoostingClassifier--Accuracy: 0.98 (+/- 0.01)\n",
      "\n"
     ]
    }
   ],
   "source": [
    "skf = StratifiedKFold(n_splits=5)\n",
    "model_name=['Linear SVC','naive_bayes','RandomForestClassifier','KNeighborsClassifier','GradientBoostingClassifier']\n",
    "models_list= [LinearSVC(),NB(),RF(),KNN(),GB()]\n",
    "for i, j in zip(model_name, models_list):\n",
    "    scores = cross_val_score(j, X, y, cv=skf)\n",
    "    print(scores)\n",
    "    print(i+\"--\"+ \"Accuracy: %0.2f (+/- %0.2f)\" % (scores.mean(), scores.std() * 2))\n",
    "    print()"
   ]
  },
  {
   "cell_type": "markdown",
   "metadata": {},
   "source": [
    "### Hyperparameter Tuning"
   ]
  },
  {
   "cell_type": "markdown",
   "metadata": {},
   "source": [
    "### Grid Search CV"
   ]
  },
  {
   "cell_type": "code",
   "execution_count": 63,
   "metadata": {},
   "outputs": [],
   "source": [
    "from sklearn.model_selection import GridSearchCV\n",
    "from sklearn.metrics import accuracy_score\n",
    "from sklearn.metrics import make_scorer"
   ]
  },
  {
   "cell_type": "code",
   "execution_count": 72,
   "metadata": {},
   "outputs": [],
   "source": [
    "def RF_param_selection(X, y, nfolds):\n",
    "    n_estimators = [120,300]\n",
    "    max_depth=[8,15,None]\n",
    "    min_samples_split=[2,5,10]\n",
    "    min_samples_leaf=[1,2,5]\n",
    "    max_features=[\"auto\", \"sqrt\" or \"log2\"]\n",
    "    param_grid = {'n_estimators': n_estimators,\n",
    "                 'max_depth':max_depth,\n",
    "                 'min_samples_split':min_samples_split,\n",
    "                 'min_samples_leaf':min_samples_leaf,\n",
    "                 'max_features':max_features}\n",
    "    grid_search = GridSearchCV(RF(), param_grid, cv=nfolds)\n",
    "    grid_search.fit(X,y)\n",
    "    grid_search.best_params_\n",
    "    grid_search.best_score_\n",
    "    return{'Best Parameters': grid_search.best_params_, 'Best Score': grid_search.best_score_}"
   ]
  },
  {
   "cell_type": "code",
   "execution_count": 73,
   "metadata": {},
   "outputs": [
    {
     "data": {
      "text/plain": [
       "{'Best Parameters': {'max_depth': None,\n",
       "  'max_features': 'sqrt',\n",
       "  'min_samples_leaf': 1,\n",
       "  'min_samples_split': 5,\n",
       "  'n_estimators': 300},\n",
       " 'Best Score': 0.8018018018018018}"
      ]
     },
     "execution_count": 73,
     "metadata": {},
     "output_type": "execute_result"
    }
   ],
   "source": [
    "RF_param_selection(X,y,5)"
   ]
  },
  {
   "cell_type": "markdown",
   "metadata": {},
   "source": [
    "### Let's check whether the model performs in the same way on unseen data.\n",
    "- Unseen data is the Test data that I've extracted from the original training sheet."
   ]
  },
  {
   "cell_type": "markdown",
   "metadata": {},
   "source": [
    "### Checking on New Data"
   ]
  },
  {
   "cell_type": "markdown",
   "metadata": {},
   "source": [
    "Loading Test file"
   ]
  },
  {
   "cell_type": "code",
   "execution_count": 36,
   "metadata": {},
   "outputs": [
    {
     "data": {
      "text/html": [
       "<div>\n",
       "<style>\n",
       "    .dataframe thead tr:only-child th {\n",
       "        text-align: right;\n",
       "    }\n",
       "\n",
       "    .dataframe thead th {\n",
       "        text-align: left;\n",
       "    }\n",
       "\n",
       "    .dataframe tbody tr th {\n",
       "        vertical-align: top;\n",
       "    }\n",
       "</style>\n",
       "<table border=\"1\" class=\"dataframe\">\n",
       "  <thead>\n",
       "    <tr style=\"text-align: right;\">\n",
       "      <th></th>\n",
       "      <th>id</th>\n",
       "      <th>name</th>\n",
       "      <th>display_name</th>\n",
       "      <th>production_year</th>\n",
       "      <th>movie_sequel</th>\n",
       "      <th>creative_type</th>\n",
       "      <th>source</th>\n",
       "      <th>production_method</th>\n",
       "      <th>genre</th>\n",
       "      <th>language</th>\n",
       "      <th>board_rating_reason</th>\n",
       "      <th>movie_board_rating_display_name</th>\n",
       "      <th>movie_release_pattern_display_name</th>\n",
       "      <th>total</th>\n",
       "      <th>Category</th>\n",
       "    </tr>\n",
       "  </thead>\n",
       "  <tbody>\n",
       "    <tr>\n",
       "      <th>0</th>\n",
       "      <td>16050115</td>\n",
       "      <td>Bratz</td>\n",
       "      <td>Bratz</td>\n",
       "      <td>2007</td>\n",
       "      <td>0</td>\n",
       "      <td>Fantasy</td>\n",
       "      <td>Based on Game</td>\n",
       "      <td>Live Action</td>\n",
       "      <td>Comedy</td>\n",
       "      <td>English</td>\n",
       "      <td>for thematic elements</td>\n",
       "      <td>PG</td>\n",
       "      <td>Wide</td>\n",
       "      <td>26</td>\n",
       "      <td>3</td>\n",
       "    </tr>\n",
       "    <tr>\n",
       "      <th>1</th>\n",
       "      <td>16130115</td>\n",
       "      <td>Brave One, The</td>\n",
       "      <td>The Brave One</td>\n",
       "      <td>2007</td>\n",
       "      <td>0</td>\n",
       "      <td>Contemporary Fiction</td>\n",
       "      <td>Original Screenplay</td>\n",
       "      <td>Live Action</td>\n",
       "      <td>Drama</td>\n",
       "      <td>English</td>\n",
       "      <td>for strong violence, language, and some sexuality</td>\n",
       "      <td>R</td>\n",
       "      <td>Wide</td>\n",
       "      <td>70</td>\n",
       "      <td>4</td>\n",
       "    </tr>\n",
       "    <tr>\n",
       "      <th>2</th>\n",
       "      <td>16180115</td>\n",
       "      <td>Breach</td>\n",
       "      <td>Breach</td>\n",
       "      <td>2007</td>\n",
       "      <td>0</td>\n",
       "      <td>Dramatization</td>\n",
       "      <td>Based on Real Life Events</td>\n",
       "      <td>Live Action</td>\n",
       "      <td>Thriller/Suspense</td>\n",
       "      <td>English</td>\n",
       "      <td>for violence, sexual content and language</td>\n",
       "      <td>PG-13</td>\n",
       "      <td>Wide</td>\n",
       "      <td>34</td>\n",
       "      <td>3</td>\n",
       "    </tr>\n",
       "    <tr>\n",
       "      <th>3</th>\n",
       "      <td>16430115</td>\n",
       "      <td>Brick Lane</td>\n",
       "      <td>Brick Lane</td>\n",
       "      <td>2008</td>\n",
       "      <td>0</td>\n",
       "      <td>Historical Fiction</td>\n",
       "      <td>Based on Fiction Book/Short Story</td>\n",
       "      <td>Live Action</td>\n",
       "      <td>Drama</td>\n",
       "      <td>English</td>\n",
       "      <td>for some sexuality and brief strong language.</td>\n",
       "      <td>PG-13</td>\n",
       "      <td>Exclusive</td>\n",
       "      <td>4</td>\n",
       "      <td>1</td>\n",
       "    </tr>\n",
       "    <tr>\n",
       "      <th>4</th>\n",
       "      <td>16480115</td>\n",
       "      <td>Bride Wars</td>\n",
       "      <td>Bride Wars</td>\n",
       "      <td>2009</td>\n",
       "      <td>0</td>\n",
       "      <td>Contemporary Fiction</td>\n",
       "      <td>Original Screenplay</td>\n",
       "      <td>Live Action</td>\n",
       "      <td>Comedy</td>\n",
       "      <td>English</td>\n",
       "      <td>for suggestive content, language and some rude...</td>\n",
       "      <td>PG</td>\n",
       "      <td>Wide</td>\n",
       "      <td>115</td>\n",
       "      <td>5</td>\n",
       "    </tr>\n",
       "  </tbody>\n",
       "</table>\n",
       "</div>"
      ],
      "text/plain": [
       "         id            name   display_name  production_year  movie_sequel  \\\n",
       "0  16050115           Bratz          Bratz             2007             0   \n",
       "1  16130115  Brave One, The  The Brave One             2007             0   \n",
       "2  16180115          Breach         Breach             2007             0   \n",
       "3  16430115      Brick Lane     Brick Lane             2008             0   \n",
       "4  16480115      Bride Wars     Bride Wars             2009             0   \n",
       "\n",
       "          creative_type                             source production_method  \\\n",
       "0               Fantasy                      Based on Game       Live Action   \n",
       "1  Contemporary Fiction                Original Screenplay       Live Action   \n",
       "2         Dramatization          Based on Real Life Events       Live Action   \n",
       "3    Historical Fiction  Based on Fiction Book/Short Story       Live Action   \n",
       "4  Contemporary Fiction                Original Screenplay       Live Action   \n",
       "\n",
       "               genre language  \\\n",
       "0             Comedy  English   \n",
       "1              Drama  English   \n",
       "2  Thriller/Suspense  English   \n",
       "3              Drama  English   \n",
       "4             Comedy  English   \n",
       "\n",
       "                                 board_rating_reason  \\\n",
       "0                              for thematic elements   \n",
       "1  for strong violence, language, and some sexuality   \n",
       "2          for violence, sexual content and language   \n",
       "3      for some sexuality and brief strong language.   \n",
       "4  for suggestive content, language and some rude...   \n",
       "\n",
       "  movie_board_rating_display_name movie_release_pattern_display_name  total  \\\n",
       "0                              PG                               Wide     26   \n",
       "1                               R                               Wide     70   \n",
       "2                           PG-13                               Wide     34   \n",
       "3                           PG-13                          Exclusive      4   \n",
       "4                              PG                               Wide    115   \n",
       "\n",
       "   Category  \n",
       "0         3  \n",
       "1         4  \n",
       "2         3  \n",
       "3         1  \n",
       "4         5  "
      ]
     },
     "execution_count": 36,
     "metadata": {},
     "output_type": "execute_result"
    }
   ],
   "source": [
    "test= pd.read_excel(\"Test.xlsx\")\n",
    "test.head()"
   ]
  },
  {
   "cell_type": "code",
   "execution_count": 44,
   "metadata": {
    "scrolled": true
   },
   "outputs": [
    {
     "name": "stdout",
     "output_type": "stream",
     "text": [
      "Shape of Test data is: (197, 15)\n"
     ]
    }
   ],
   "source": [
    "print(\"Shape of Test data is:\", test.shape)"
   ]
  },
  {
   "cell_type": "markdown",
   "metadata": {},
   "source": [
    "Dropping the columns from the Test data that are not present in the Trained data."
   ]
  },
  {
   "cell_type": "code",
   "execution_count": 37,
   "metadata": {},
   "outputs": [],
   "source": [
    "to_drop= [\"id\",\"name\",\"display_name\",\"board_rating_reason\"]\n",
    "test_1= test.drop(to_drop, axis=1)"
   ]
  },
  {
   "cell_type": "markdown",
   "metadata": {},
   "source": [
    "- Assiging astype.Category to Categorical features\n",
    "- Converting the Categorical features to Numeric by creating dummy variables"
   ]
  },
  {
   "cell_type": "code",
   "execution_count": 38,
   "metadata": {},
   "outputs": [],
   "source": [
    "# col=[\"movie_sequel\",\"creative_type\",\"source\",\"production_method\",\"genre\",\n",
    "#                  \"language\",\"movie_board_rating_display_name\",\"movie_release_pattern_display_name\"]\n",
    "# for i in col:\n",
    "#     test[i]= test[i].astype(\"category\")\n",
    "\n",
    "for column in test_1.select_dtypes(include=[np.object]).columns:\n",
    "    test_1[column] = test_1[column].astype('category', categories = test_1[column].unique())"
   ]
  },
  {
   "cell_type": "code",
   "execution_count": 39,
   "metadata": {},
   "outputs": [
    {
     "data": {
      "text/plain": [
       "(197, 54)"
      ]
     },
     "execution_count": 39,
     "metadata": {},
     "output_type": "execute_result"
    }
   ],
   "source": [
    "nominal_columns=[\"movie_sequel\",\"creative_type\",\"source\",\"production_method\",\"genre\",\n",
    "                 \"language\",\"movie_board_rating_display_name\",\"movie_release_pattern_display_name\"]\n",
    "test_2= pd.get_dummies(data=test_1, columns=nominal_columns)\n",
    "test_2.shape"
   ]
  },
  {
   "cell_type": "markdown",
   "metadata": {},
   "source": [
    "#### Splitting the Test data into Features and Target "
   ]
  },
  {
   "cell_type": "code",
   "execution_count": 40,
   "metadata": {},
   "outputs": [],
   "source": [
    "features_score= test_2.drop(\"Category\",axis=1)\n",
    "target_score=test_2[\"Category\"]\n",
    "X_score=features_score\n",
    "y_score=target_score"
   ]
  },
  {
   "cell_type": "code",
   "execution_count": 41,
   "metadata": {
    "scrolled": true
   },
   "outputs": [
    {
     "name": "stdout",
     "output_type": "stream",
     "text": [
      "(197, 53)\n",
      "(197,)\n",
      "[1 2 3 4 5 6 7 8 9]\n"
     ]
    }
   ],
   "source": [
    "print(X_score.shape)\n",
    "print(y_score.shape)\n",
    "print(np.unique(y_score))"
   ]
  },
  {
   "cell_type": "markdown",
   "metadata": {},
   "source": [
    "#### Aligning the shape of the test data to match the training data."
   ]
  },
  {
   "cell_type": "code",
   "execution_count": 42,
   "metadata": {},
   "outputs": [],
   "source": [
    "# Get missing columns in the training test\n",
    "missing_cols = set(X.columns ) - set(X_score.columns )\n",
    "# Add a missing column in test set with default value equal to 0\n",
    "for c in missing_cols:\n",
    "    X_score[c] = 0\n",
    "# Ensure the order of column in the test set is in the same order than in train set\n",
    "X_score = X_score[X.columns]"
   ]
  },
  {
   "cell_type": "code",
   "execution_count": 43,
   "metadata": {},
   "outputs": [
    {
     "name": "stdout",
     "output_type": "stream",
     "text": [
      "Shape of training data X: (999, 77)\n",
      "Shape of Test data X_score: (197, 77)\n"
     ]
    }
   ],
   "source": [
    "print(\"Shape of training data X:\",X.shape)\n",
    "print(\"Shape of Test data X_score:\",X_score.shape)"
   ]
  },
  {
   "cell_type": "markdown",
   "metadata": {},
   "source": [
    "Now, we can see that the total number of columns in both test and training data are equal."
   ]
  },
  {
   "cell_type": "markdown",
   "metadata": {},
   "source": [
    "### Fitting the training data from \"Train file\" (999 rows)  and finding the predictions on Test data(197 rows) from \"Test file\"."
   ]
  },
  {
   "cell_type": "code",
   "execution_count": 44,
   "metadata": {},
   "outputs": [],
   "source": [
    "from sklearn.metrics import confusion_matrix\n",
    "from sklearn import metrics"
   ]
  },
  {
   "cell_type": "code",
   "execution_count": 58,
   "metadata": {},
   "outputs": [
    {
     "name": "stdout",
     "output_type": "stream",
     "text": [
      "accuracy of model:Linear SVC is: 0.28426395939086296\n",
      "\n",
      "accuracy of model:naive_bayes is: 0.2182741116751269\n",
      "\n",
      "accuracy of model:RandomForestClassifier is: 0.7868020304568528\n",
      "\n",
      "accuracy of model:KNeighborsClassifier is: 0.949238578680203\n",
      "\n",
      "accuracy of model:GradientBoostingClassifier is: 0.9746192893401016\n",
      "\n",
      "\n"
     ]
    }
   ],
   "source": [
    "model_name=['Linear SVC','naive_bayes','RandomForestClassifier','KNeighborsClassifier','GradientBoostingClassifier']\n",
    "models_list= [LinearSVC(),NB(),RF(),KNN(),GB()]\n",
    "for i, j in zip(model_name, models_list):\n",
    "    j.fit(X,y)\n",
    "    y_pred=j.predict(X_score)\n",
    "    print('accuracy of model:'+ i +' is:',metrics.accuracy_score(y_score, y_pred))\n",
    "    print()\n",
    "print()"
   ]
  },
  {
   "cell_type": "code",
   "execution_count": 47,
   "metadata": {},
   "outputs": [
    {
     "data": {
      "text/plain": [
       "0.8527918781725888"
      ]
     },
     "execution_count": 47,
     "metadata": {},
     "output_type": "execute_result"
    }
   ],
   "source": [
    "model=RF(max_depth= None, max_features= 'sqrt', min_samples_leaf= 1, min_samples_split= 5, n_estimators= 300)\n",
    "model.fit(X,y)\n",
    "y_pred=model.predict(X_score)\n",
    "metrics.accuracy_score(y_score, y_pred)"
   ]
  },
  {
   "cell_type": "markdown",
   "metadata": {},
   "source": [
    "- KNN classifier performed very badly during Cross Validation but gave good predictions for the unseen data, hence we cannot be sure on this model predictions. Parameter tuning might give us a better estimat on the arrived results.\n",
    "- Gradient Boosting Classifier has good accuracy on both training and unseen data."
   ]
  },
  {
   "cell_type": "markdown",
   "metadata": {},
   "source": [
    "### Final Predictions on Scoring Sheet Data using Gradient Boosting Classifier"
   ]
  },
  {
   "cell_type": "code",
   "execution_count": 58,
   "metadata": {},
   "outputs": [
    {
     "data": {
      "text/html": [
       "<div>\n",
       "<style>\n",
       "    .dataframe thead tr:only-child th {\n",
       "        text-align: right;\n",
       "    }\n",
       "\n",
       "    .dataframe thead th {\n",
       "        text-align: left;\n",
       "    }\n",
       "\n",
       "    .dataframe tbody tr th {\n",
       "        vertical-align: top;\n",
       "    }\n",
       "</style>\n",
       "<table border=\"1\" class=\"dataframe\">\n",
       "  <thead>\n",
       "    <tr style=\"text-align: right;\">\n",
       "      <th></th>\n",
       "      <th>id</th>\n",
       "      <th>name</th>\n",
       "      <th>display_name</th>\n",
       "      <th>production_budget</th>\n",
       "      <th>production_year</th>\n",
       "      <th>movie_sequel</th>\n",
       "      <th>creative_type</th>\n",
       "      <th>source</th>\n",
       "      <th>production_method</th>\n",
       "      <th>genre</th>\n",
       "      <th>language</th>\n",
       "      <th>board_rating_reason</th>\n",
       "      <th>movie_board_rating_display_name</th>\n",
       "      <th>movie_release_pattern_display_name</th>\n",
       "    </tr>\n",
       "  </thead>\n",
       "  <tbody>\n",
       "    <tr>\n",
       "      <th>0</th>\n",
       "      <td>7970115</td>\n",
       "      <td>Avengers, The (2011)</td>\n",
       "      <td>Marvel's The Avengers</td>\n",
       "      <td>225000000</td>\n",
       "      <td>2012</td>\n",
       "      <td>0</td>\n",
       "      <td>Super Hero</td>\n",
       "      <td>Based on Comic/Graphic Novel</td>\n",
       "      <td>Live Action</td>\n",
       "      <td>Adventure</td>\n",
       "      <td>English</td>\n",
       "      <td>for intense sequences of sci-fi violence and a...</td>\n",
       "      <td>PG-13</td>\n",
       "      <td>Wide</td>\n",
       "    </tr>\n",
       "    <tr>\n",
       "      <th>1</th>\n",
       "      <td>174540115</td>\n",
       "      <td>Dark Knight Rises The</td>\n",
       "      <td>The Dark Knight Rises</td>\n",
       "      <td>0</td>\n",
       "      <td>2012</td>\n",
       "      <td>1</td>\n",
       "      <td>Super Hero</td>\n",
       "      <td>Based on Comic/Graphic Novel</td>\n",
       "      <td>Live Action</td>\n",
       "      <td>Action</td>\n",
       "      <td>English</td>\n",
       "      <td>for intense sequences of violence and action, ...</td>\n",
       "      <td>PG-13</td>\n",
       "      <td>Wide</td>\n",
       "    </tr>\n",
       "    <tr>\n",
       "      <th>2</th>\n",
       "      <td>149080115</td>\n",
       "      <td>Bond 23</td>\n",
       "      <td>Skyfall</td>\n",
       "      <td>200000000</td>\n",
       "      <td>2012</td>\n",
       "      <td>1</td>\n",
       "      <td>Contemporary Fiction</td>\n",
       "      <td>Based on Fiction Book/Short Story</td>\n",
       "      <td>Live Action</td>\n",
       "      <td>Action</td>\n",
       "      <td>English</td>\n",
       "      <td>for intense violent sequences throughout, some...</td>\n",
       "      <td>PG-13</td>\n",
       "      <td>Wide</td>\n",
       "    </tr>\n",
       "    <tr>\n",
       "      <th>3</th>\n",
       "      <td>136020115</td>\n",
       "      <td>Twilight Saga Breaking Dawn Part 2 The</td>\n",
       "      <td>The Twilight Saga: Breaking Dawn, Part 2</td>\n",
       "      <td>136200000</td>\n",
       "      <td>2012</td>\n",
       "      <td>1</td>\n",
       "      <td>Fantasy</td>\n",
       "      <td>Based on Fiction Book/Short Story</td>\n",
       "      <td>Live Action</td>\n",
       "      <td>Drama</td>\n",
       "      <td>English</td>\n",
       "      <td>for sequences of violence including disturbing...</td>\n",
       "      <td>PG-13</td>\n",
       "      <td>Wide</td>\n",
       "    </tr>\n",
       "    <tr>\n",
       "      <th>4</th>\n",
       "      <td>53500115</td>\n",
       "      <td>Hobbit, The</td>\n",
       "      <td>The Hobbit: An Unexpected Journey</td>\n",
       "      <td>270000000</td>\n",
       "      <td>2012</td>\n",
       "      <td>1</td>\n",
       "      <td>Fantasy</td>\n",
       "      <td>Based on Fiction Book/Short Story</td>\n",
       "      <td>Animation/Live Action</td>\n",
       "      <td>Adventure</td>\n",
       "      <td>English</td>\n",
       "      <td>for extended sequences of intense fantasy acti...</td>\n",
       "      <td>PG-13</td>\n",
       "      <td>Wide</td>\n",
       "    </tr>\n",
       "  </tbody>\n",
       "</table>\n",
       "</div>"
      ],
      "text/plain": [
       "          id                                    name  \\\n",
       "0    7970115                    Avengers, The (2011)   \n",
       "1  174540115                   Dark Knight Rises The   \n",
       "2  149080115                                 Bond 23   \n",
       "3  136020115  Twilight Saga Breaking Dawn Part 2 The   \n",
       "4   53500115                             Hobbit, The   \n",
       "\n",
       "                               display_name  production_budget  \\\n",
       "0                     Marvel's The Avengers          225000000   \n",
       "1                     The Dark Knight Rises                  0   \n",
       "2                                   Skyfall          200000000   \n",
       "3  The Twilight Saga: Breaking Dawn, Part 2          136200000   \n",
       "4         The Hobbit: An Unexpected Journey          270000000   \n",
       "\n",
       "   production_year  movie_sequel         creative_type  \\\n",
       "0             2012             0            Super Hero   \n",
       "1             2012             1            Super Hero   \n",
       "2             2012             1  Contemporary Fiction   \n",
       "3             2012             1               Fantasy   \n",
       "4             2012             1               Fantasy   \n",
       "\n",
       "                              source      production_method      genre  \\\n",
       "0       Based on Comic/Graphic Novel            Live Action  Adventure   \n",
       "1       Based on Comic/Graphic Novel            Live Action     Action   \n",
       "2  Based on Fiction Book/Short Story            Live Action     Action   \n",
       "3  Based on Fiction Book/Short Story            Live Action      Drama   \n",
       "4  Based on Fiction Book/Short Story  Animation/Live Action  Adventure   \n",
       "\n",
       "  language                                board_rating_reason  \\\n",
       "0  English  for intense sequences of sci-fi violence and a...   \n",
       "1  English  for intense sequences of violence and action, ...   \n",
       "2  English  for intense violent sequences throughout, some...   \n",
       "3  English  for sequences of violence including disturbing...   \n",
       "4  English  for extended sequences of intense fantasy acti...   \n",
       "\n",
       "  movie_board_rating_display_name movie_release_pattern_display_name  \n",
       "0                           PG-13                               Wide  \n",
       "1                           PG-13                               Wide  \n",
       "2                           PG-13                               Wide  \n",
       "3                           PG-13                               Wide  \n",
       "4                           PG-13                               Wide  "
      ]
     },
     "execution_count": 58,
     "metadata": {},
     "output_type": "execute_result"
    }
   ],
   "source": [
    "#import Scoring Sheet file\n",
    "scoring_data=pd.read_excel(\"Scoring Sheet.xlsx\")\n",
    "scoring_data.head()"
   ]
  },
  {
   "cell_type": "code",
   "execution_count": 11,
   "metadata": {},
   "outputs": [
    {
     "name": "stdout",
     "output_type": "stream",
     "text": [
      "Shape of scoring data is: (91, 14)\n"
     ]
    }
   ],
   "source": [
    "print(\"Shape of scoring data is:\",scoring_data.shape)"
   ]
  },
  {
   "cell_type": "code",
   "execution_count": 59,
   "metadata": {},
   "outputs": [],
   "source": [
    "# Drop the columns, which are not present in training data\n",
    "to_drop= [\"id\",\"name\",\"display_name\",\"board_rating_reason\"]\n",
    "scoring_data_1= scoring_data.drop(to_drop, axis=1)"
   ]
  },
  {
   "cell_type": "markdown",
   "metadata": {},
   "source": [
    "Assigning data type category to categorical features and converting them into numeric(dummy variables)"
   ]
  },
  {
   "cell_type": "code",
   "execution_count": 60,
   "metadata": {},
   "outputs": [],
   "source": [
    "for column in scoring_data_1.select_dtypes(include=[np.object]).columns:\n",
    "    scoring_data_1[column] = scoring_data_1[column].astype('category', categories = scoring_data_1[column].unique())"
   ]
  },
  {
   "cell_type": "code",
   "execution_count": 61,
   "metadata": {},
   "outputs": [
    {
     "data": {
      "text/plain": [
       "(91, 50)"
      ]
     },
     "execution_count": 61,
     "metadata": {},
     "output_type": "execute_result"
    }
   ],
   "source": [
    "nominal_columns=[\"movie_sequel\",\"creative_type\",\"source\",\"production_method\",\"genre\",\n",
    "                 \"language\",\"movie_board_rating_display_name\",\"movie_release_pattern_display_name\"]\n",
    "scoring_data_2= pd.get_dummies(data=scoring_data_1, columns=nominal_columns)\n",
    "scoring_data_2.shape"
   ]
  },
  {
   "cell_type": "code",
   "execution_count": 62,
   "metadata": {},
   "outputs": [],
   "source": [
    "X_ScoringData=scoring_data_2"
   ]
  },
  {
   "cell_type": "markdown",
   "metadata": {},
   "source": [
    "Aligning the scoring data to match the shape of training data"
   ]
  },
  {
   "cell_type": "code",
   "execution_count": 63,
   "metadata": {},
   "outputs": [],
   "source": [
    "# Get missing columns in the training test\n",
    "missing_cols = set(X.columns ) - set(X_ScoringData.columns )\n",
    "# Add a missing column in test set with default value equal to 0\n",
    "for c in missing_cols:\n",
    "    X_ScoringData[c] = 0\n",
    "# Ensure the order of column in the test set is in the same order than in train set\n",
    "X_ScoringData = X_ScoringData[X.columns]"
   ]
  },
  {
   "cell_type": "code",
   "execution_count": 54,
   "metadata": {
    "scrolled": true
   },
   "outputs": [
    {
     "name": "stdout",
     "output_type": "stream",
     "text": [
      "Shape of training data X: (999, 77)\n",
      "Shape of Scoring data X_scoringData: (91, 77)\n"
     ]
    }
   ],
   "source": [
    "print(\"Shape of training data X:\",X.shape)\n",
    "print(\"Shape of Scoring data X_scoringData:\",X_ScoringData.shape)"
   ]
  },
  {
   "cell_type": "markdown",
   "metadata": {},
   "source": [
    "#### Predictions from Linear SVC"
   ]
  },
  {
   "cell_type": "code",
   "execution_count": 55,
   "metadata": {},
   "outputs": [],
   "source": [
    "from sklearn import metrics\n",
    "clf= LinearSVC()\n",
    "clf.fit(X,y)\n",
    "target_predicted_SVC=clf.predict(X_ScoringData)"
   ]
  },
  {
   "cell_type": "code",
   "execution_count": 26,
   "metadata": {},
   "outputs": [],
   "source": [
    "Predictions= pd.DataFrame(target_predicted_SVC).to_excel('prediction_SVC.xlsx')"
   ]
  },
  {
   "cell_type": "markdown",
   "metadata": {},
   "source": [
    "#### Predictions from GB Classifier"
   ]
  },
  {
   "cell_type": "code",
   "execution_count": 56,
   "metadata": {},
   "outputs": [],
   "source": [
    "clf= GB()\n",
    "clf.fit(X,y)\n",
    "target_predicted_GB=clf.predict(X_ScoringData)"
   ]
  },
  {
   "cell_type": "code",
   "execution_count": 28,
   "metadata": {},
   "outputs": [],
   "source": [
    "Predictions= pd.DataFrame(target_predicted_GB).to_excel('prediction_GB.xlsx')"
   ]
  },
  {
   "cell_type": "markdown",
   "metadata": {},
   "source": [
    "#### Predictions from Naive Bayes"
   ]
  },
  {
   "cell_type": "code",
   "execution_count": 29,
   "metadata": {},
   "outputs": [],
   "source": [
    "clf= NB()\n",
    "clf.fit(X,y)\n",
    "target_predicted_NB=clf.predict(X_ScoringData)"
   ]
  },
  {
   "cell_type": "code",
   "execution_count": 30,
   "metadata": {},
   "outputs": [],
   "source": [
    "Predictions= pd.DataFrame(target_predicted_NB).to_excel('prediction_NB.xlsx')"
   ]
  },
  {
   "cell_type": "markdown",
   "metadata": {},
   "source": [
    "#### Predictions from Random Forest Classifier"
   ]
  },
  {
   "cell_type": "code",
   "execution_count": 65,
   "metadata": {},
   "outputs": [],
   "source": [
    "model=RF(max_depth= None, max_features= 'sqrt', min_samples_leaf= 1, min_samples_split= 5, n_estimators= 300)\n",
    "model.fit(X,y)\n",
    "target_predicted_RF=model.predict(X_ScoringData)\n",
    "Predictions= pd.DataFrame(target_predicted_RF).to_excel('predictions_RF.xlsx')"
   ]
  },
  {
   "cell_type": "markdown",
   "metadata": {},
   "source": [
    "- Both Linear SVC and Gradient Boosting Classifiers gave same prediction outputs where as the predictions of Naive Bayes are completely different.\n",
    "- I've used the 2 best models and 1 worst model on predicting final outputs to check the validity of the model i.e., to see whether they predict different outputs or not."
   ]
  }
 ],
 "metadata": {
  "kernelspec": {
   "display_name": "Python 3",
   "language": "python",
   "name": "python3"
  },
  "language_info": {
   "codemirror_mode": {
    "name": "ipython",
    "version": 3
   },
   "file_extension": ".py",
   "mimetype": "text/x-python",
   "name": "python",
   "nbconvert_exporter": "python",
   "pygments_lexer": "ipython3",
   "version": "3.6.2"
  }
 },
 "nbformat": 4,
 "nbformat_minor": 2
}
